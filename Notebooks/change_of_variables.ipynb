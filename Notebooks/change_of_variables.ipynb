{
  "nbformat": 4,
  "nbformat_minor": 0,
  "metadata": {
    "colab": {
      "name": "change_of_variables.ipynb",
      "provenance": [],
      "collapsed_sections": []
    },
    "kernelspec": {
      "name": "python3",
      "display_name": "Python 3"
    },
    "language_info": {
      "name": "python"
    }
  },
  "cells": [
    {
      "cell_type": "code",
      "execution_count": 2,
      "metadata": {
        "id": "J17vtBJli26T"
      },
      "outputs": [],
      "source": [
        "import jax.numpy as np   \n",
        "from jax import grad, jacfwd, jit, random, vmap\n",
        "from jax.scipy.stats import multivariate_normal\n",
        "from jax.tree_util import tree_multimap\n",
        "from IPython.display import clear_output\n",
        "import matplotlib.pyplot as plt"
      ]
    },
    {
      "cell_type": "markdown",
      "source": [
        "# Affine transformation\n",
        "\n",
        "Let us start with a good old Normal variable $\\mathbf{z} \\sim \\mathcal{N}(\\mathbf{0}, \\mathbf{I})$."
      ],
      "metadata": {
        "id": "Yq2EQIPSi9W6"
      }
    },
    {
      "cell_type": "code",
      "source": [
        "rng_key = random.PRNGKey(0)\n",
        "z = random.normal(rng_key, (2,))\n",
        "print(z)"
      ],
      "metadata": {
        "colab": {
          "base_uri": "https://localhost:8080/"
        },
        "id": "3LQHmV34jAFU",
        "outputId": "910ea445-091f-4eb3-9683-ab29a7f7cb88"
      },
      "execution_count": 3,
      "outputs": [
        {
          "output_type": "stream",
          "name": "stderr",
          "text": [
            "WARNING:absl:No GPU/TPU found, falling back to CPU. (Set TF_CPP_MIN_LOG_LEVEL=0 and rerun for more info.)\n"
          ]
        },
        {
          "output_type": "stream",
          "name": "stdout",
          "text": [
            "[-0.784766   0.8564448]\n"
          ]
        }
      ]
    },
    {
      "cell_type": "markdown",
      "source": [
        "We define $\\mathbf{x}$ as the affine transformation $\\mathbf{x} = g^{-1}(\\mathbf{z}) = A \\mathbf{z} + \\mathbf{b}$. The transformation is invertible and we have $\\mathbf{z} = g(\\mathbf{x}) = A^{-1} (\\mathbf{x} - \\mathbf{b})$."
      ],
      "metadata": {
        "id": "lR5q-gZ0jHpr"
      }
    },
    {
      "cell_type": "code",
      "source": [
        "A = np.array([[0.75, -0.3],  \n",
        "              [-0.7, 1.25]])\n",
        "b = np.array([1.0, 0.5])\n",
        "\n",
        "A_inv = np.linalg.inv(A)\n",
        "\n",
        "def g_inv(z, A, b):\n",
        "    return np.dot(A, z) + b\n",
        "\n",
        "def g_fwd(x, A_inv, b):\n",
        "    return np.dot(A_inv, x-b)"
      ],
      "metadata": {
        "id": "Mxr7bID-jB3q"
      },
      "execution_count": 10,
      "outputs": []
    },
    {
      "cell_type": "code",
      "source": [
        "# A simple sanity check\n",
        "print(\"z =\", z)\n",
        "x = g_inv(z, A, b)\n",
        "print(\"x = g_inv(z) =\", x)\n",
        "z = g_fwd(x, A_inv, b)\n",
        "print(\"z = g_fwd(x) =\", z)"
      ],
      "metadata": {
        "colab": {
          "base_uri": "https://localhost:8080/"
        },
        "id": "9axMyvYfjO-M",
        "outputId": "a4c6932d-5527-41d8-bcf8-a59e37498b74"
      },
      "execution_count": 12,
      "outputs": [
        {
          "output_type": "stream",
          "name": "stdout",
          "text": [
            "z = [-0.7847661   0.85644466]\n",
            "x = g_inv(z) = [0.15449208 2.1198921 ]\n",
            "z = g_fwd(x) = [-0.78476596  0.8564447 ]\n"
          ]
        }
      ]
    },
    {
      "cell_type": "markdown",
      "source": [
        "The transformation and its inverse are defined on a per-sample level, but can be easily vectorized using JAX's `vmap`:"
      ],
      "metadata": {
        "id": "0hjPPJ8Jjl_Z"
      }
    },
    {
      "cell_type": "code",
      "source": [
        "g_inv_vec = vmap(g_inv, in_axes=(0,None,None))\n",
        "g_fwd_vec = vmap(g_fwd, in_axes=(0,None,None))"
      ],
      "metadata": {
        "id": "bee4VpEBjVJD"
      },
      "execution_count": 13,
      "outputs": []
    },
    {
      "cell_type": "code",
      "source": [
        "# One more sanity check\n",
        "rng_key = random.PRNGKey(1)\n",
        "z = random.normal(rng_key, (10000, 2))\n",
        "\n",
        "x     = g_inv_vec(z, A, b)\n",
        "z_rec = g_fwd_vec(x, A_inv, b)\n",
        "\n",
        "fig, (ax1, ax2, ax3) = plt.subplots(1, 3, figsize=(12, 4))\n",
        "ax1.hist2d(z[:, 0], z[:, 1], bins=50, range=[(-5,5), (-5,5)], density=True)\n",
        "ax1.set_xlim(-5, 5)\n",
        "ax1.set_ylim(-5, 5)\n",
        "ax1.set_title('z ~ p(z)')\n",
        "\n",
        "ax2.hist2d(x[:, 0], x[:, 1], bins=50, range=[(-5,5), (-5,5)], density=True)\n",
        "ax2.set_xlim(-5, 5)\n",
        "ax2.set_ylim(-5, 5)\n",
        "ax2.set_title('x = g^{-1}(z)')\n",
        "\n",
        "ax3.hist2d(z_rec[:, 0], z_rec[:, 1], bins=50, range=[(-5,5), (-5,5)], density=True)\n",
        "ax3.set_xlim(-5, 5)\n",
        "ax3.set_ylim(-5, 5)\n",
        "ax3.set_title('z = g(x) [reconstructed]')\n",
        "\n",
        "plt.show()"
      ],
      "metadata": {
        "colab": {
          "base_uri": "https://localhost:8080/",
          "height": 301
        },
        "id": "bLgpAPGej4he",
        "outputId": "0a95dd9c-b9a4-4c6c-ffc8-519e8e82782c"
      },
      "execution_count": 15,
      "outputs": [
        {
          "output_type": "display_data",
          "data": {
            "image/png": "[encoded data removed]",
            "text/plain": [
              "<Figure size 864x288 with 3 Axes>"
            ]
          },
          "metadata": {
            "needs_background": "light"
          }
        }
      ]
    },
    {
      "cell_type": "markdown",
      "source": [
        "The original $\\mathbf{z}$ values are properly reconstructed from $\\mathbf{x}$. So far so good!"
      ],
      "metadata": {
        "id": "JhjaG-WEkRlm"
      }
    },
    {
      "cell_type": "markdown",
      "source": [
        "For $\\mathbf{x} = g^{-1}(\\mathbf{z})$ with $\\mathbf{z} \\sim p(\\mathbf{z})$, we have\n",
        "$$p(\\mathbf{x}) = p(g(\\mathbf{x})) \\left| \\text{det} J_{g(\\mathbf{x})} \\right|,$$\n",
        "where the Jacobian $J_{g(\\mathbf{x})} = \\frac{\\partial g(\\mathbf{x})}{\\partial \\mathbf{x}}$.\n",
        "\n",
        "Taking the logarithm of both sides we then get\n",
        "$$\\log p(\\mathbf{x}) = \\log p(g(\\mathbf{x})) + \\log\\left| \\text{det} J_{g(\\mathbf{x})} \\right|$$"
      ],
      "metadata": {
        "id": "1O2F1vRikWPG"
      }
    },
    {
      "cell_type": "code",
      "source": [
        "# Let's evaluate log p(x) using the change of variables formula\n",
        "z = random.normal(rng_key, (2,))\n",
        "x = g_inv(z, A, b)\n",
        "\n",
        "mu_z = np.zeros(2)\n",
        "cov_z = np.eye(2)\n",
        "\n",
        "logp_z = multivariate_normal.logpdf(z, mean=mu_z, cov=cov_z)\n",
        "\n",
        "# Compute the Jacobian of g using automatic differentiation\n",
        "J = jacfwd(g_fwd) # this return a callable function!\n",
        "\n",
        "# Compute the log-likelihood of x using the change of variables formula\n",
        "logp_x = multivariate_normal.logpdf(g_fwd(x, A_inv, b), mean=mu_z, cov=cov_z) + \\\n",
        "         np.log(np.abs(np.linalg.det(J(x, A_inv, b))))\n",
        "\n",
        "print(\"log p(z) =\", logp_z)\n",
        "print(\"log p(x) =\", logp_x)"
      ],
      "metadata": {
        "colab": {
          "base_uri": "https://localhost:8080/"
        },
        "id": "0Rqj0MIukJcq",
        "outputId": "f2828cfc-ad7a-4cb2-a783-b1c1d0441c62"
      },
      "execution_count": 16,
      "outputs": [
        {
          "output_type": "stream",
          "name": "stdout",
          "text": [
            "log p(z) = -4.2922153\n",
            "log p(x) = -3.9740736\n"
          ]
        }
      ]
    },
    {
      "cell_type": "markdown",
      "source": [
        "Since we consider an affine transformation of the normal $\\mathbf{z} \\sim \\mathcal{N}(\\mathbf{0}, \\mathbf{I})$, we also know that \n",
        "$$p(\\mathbf{x}) = \\mathcal{N}(g^{-1}(\\mu), A \\Sigma A^T)).$$"
      ],
      "metadata": {
        "id": "mm-SMpNplTG6"
      }
    },
    {
      "cell_type": "code",
      "source": [
        "# Yet another sanity check\n",
        "# Confirm that the \\log p(x) we compute above agrees with what we expect\n",
        "print(\"log p(x) =\", multivariate_normal.logpdf(x, \n",
        "                                               mean=g_inv(mu_z, A, b), \n",
        "                                               cov=A @ cov_z @ A.T))"
      ],
      "metadata": {
        "colab": {
          "base_uri": "https://localhost:8080/"
        },
        "id": "iRaXEgwclOAP",
        "outputId": "35b4d79f-1fea-4b01-b09b-ea1abe00e6e8"
      },
      "execution_count": 17,
      "outputs": [
        {
          "output_type": "stream",
          "name": "stdout",
          "text": [
            "log p(x) = -3.9740741\n"
          ]
        }
      ]
    },
    {
      "cell_type": "markdown",
      "source": [
        "Hence, our expression for the density based on the change of variables theorem seems to hold!"
      ],
      "metadata": {
        "id": "tNQwCwtkmCuM"
      }
    },
    {
      "cell_type": "markdown",
      "source": [
        "Again, we can use `vmap` to vectorize the evaluation of the density over an entire batch of samples:"
      ],
      "metadata": {
        "id": "xs5b4tK3mIyz"
      }
    },
    {
      "cell_type": "code",
      "source": [
        "J_vec = vmap(J, in_axes=(0,None,None)) # returns a callable function!\n",
        "det_vec = vmap(np.linalg.det) # returns a callable function!\n",
        "\n",
        "# Generate a batch of samples\n",
        "z = random.normal(rng_key, (5, 2))\n",
        "x = g_inv_vec(z, A, b)\n",
        "\n",
        "# One more sanity check..\n",
        "\n",
        "# \\log p(x) from the change of variabled formula\n",
        "print(\"log p(x) =\", multivariate_normal.logpdf(g_fwd_vec(x, A_inv, b), \n",
        "                                               mean=np.zeros(2), \n",
        "                                               cov=np.eye(2)) + \n",
        "                    np.log(np.abs(det_vec(J_vec(x, A_inv, b)))))\n",
        "# \\log p(x) from our analytical calculation\n",
        "print(\"log p(x) =\", multivariate_normal.logpdf(x, \n",
        "                                               mean=g_inv(mu_z, A, b), \n",
        "                                               cov= np.dot(A, np.dot(cov_z,A.T))))"
      ],
      "metadata": {
        "colab": {
          "base_uri": "https://localhost:8080/"
        },
        "id": "8W7_u92xl-K4",
        "outputId": "39853ccc-be16-4930-a06b-5d17a7126be3"
      },
      "execution_count": 20,
      "outputs": [
        {
          "output_type": "stream",
          "name": "stdout",
          "text": [
            "log p(x) = [-1.877141  -2.1949909 -1.6679101 -3.4004786 -1.5975088]\n",
            "log p(x) = [-1.8771408 -2.1949909 -1.6679101 -3.4004784 -1.5975088]\n"
          ]
        }
      ]
    },
    {
      "cell_type": "markdown",
      "source": [
        "The results agree as expected!\n",
        "\n",
        "Ok, seems like we're ready to play around training a normalizing flow :)"
      ],
      "metadata": {
        "id": "00TVIljjnE4e"
      }
    },
    {
      "cell_type": "markdown",
      "source": [
        "# Parameter estimation via Maximum Likelihood Estimation (MLE)\n",
        "\n",
        "Given observations $\\mathbf{x}$ and assuming the affine transformation $\\mathbf{z} = g(\\mathbf{x}) = A^{-1} (\\mathbf{x} - \\mathbf{b})$, the parameters $A^{-1}$ and $\\mathbf{b}$ can be estimated by maximizing the likelihood $p(\\mathbf{x} | A^{-1}, \\mathbf{b})$.\n",
        "\n",
        "Let us start with some training data $\\mathbf{x} \\sim p(\\mathbf{x})$."
      ],
      "metadata": {
        "id": "Zy2oYxrpnBuk"
      }
    },
    {
      "cell_type": "code",
      "source": [
        "# Generate some reference observations for x\n",
        "z_train = random.normal(rng_key, (10000, 2))\n",
        "x_train = g_inv_vec(z_train, A, b)"
      ],
      "metadata": {
        "id": "dVNSAVL8nAeb"
      },
      "execution_count": 24,
      "outputs": []
    },
    {
      "cell_type": "markdown",
      "source": [
        "Given these observations we ask the question: can we identify the parameters $A^{-1}$ and $\\mathbf{b}$ that generate the observed data?\n",
        "\n",
        "Let's try to estimate them via MLE.\n",
        "\n",
        "To this end, we need to find $A^{-1}$ and $\\mathbf{b}$ that maximize the likelihood of our observations, $p(x|A^{-1}, \\mathbf{b})$. Or, alternatively, minimize the negative log-likelihood  $-\\log p(\\mathbf{x} | A^{-1}, \\mathbf{b})$.\n",
        "\n",
        "In general, $\\log p(\\mathbf{x} | A^{-1}, \\mathbf{b})$ will be intractable to compute directly, but we can use the change of variables formula to evaluate it in terms of $\\log p(\\mathbf{z})$ and the log-determinant of the Jacobian of $g(\\mathbf{x})$.\n",
        "\n",
        "This is how we will construct our loss function, which will allow us to determine the optimal $A^{-1}$ and $\\mathbf{b}$. \n",
        "\n",
        "The `jit` directive is used for just-in-time compilation with XLA. This can optimize the function call and can oftentimes yield >10x speed-ups in compute time! "
      ],
      "metadata": {
        "id": "AZ7TekeEnw7e"
      }
    },
    {
      "cell_type": "code",
      "source": [
        "@jit\n",
        "def loss(params, batch):\n",
        "    A_inv, b = params\n",
        "    return -np.mean(multivariate_normal.logpdf(g_fwd_vec(batch, A_inv, b), \n",
        "                                               mean=np.zeros(2), \n",
        "                                               cov=np.eye(2)) + \n",
        "                    np.log(np.abs(det_vec(J_vec(batch, A_inv, b)))))"
      ],
      "metadata": {
        "id": "XbST_YmYnvzO"
      },
      "execution_count": 25,
      "outputs": []
    },
    {
      "cell_type": "markdown",
      "source": [
        "Since JAX supports automatic differentiation, we can readily obtain its gradient with respect to its 1st ($A^{-1}$) and 2nd ($\\mathbf{b}$) argument using `grad`:"
      ],
      "metadata": {
        "id": "B46Cq2vMpdJx"
      }
    },
    {
      "cell_type": "code",
      "source": [
        "grad_loss = grad(loss)"
      ],
      "metadata": {
        "id": "k2CKe1ZFm2h0"
      },
      "execution_count": 26,
      "outputs": []
    },
    {
      "cell_type": "markdown",
      "source": [
        "Hence making it immediate to estimate $A^{-1}$ and $\\mathbf{b}$ using gradient descent."
      ],
      "metadata": {
        "id": "mUNOnJmDplAv"
      }
    },
    {
      "cell_type": "code",
      "source": [
        "# Initial guess for the unkown parameters\n",
        "A_inv_est = np.eye(2) + random.normal(rng_key, (2, 2)) * 0.01\n",
        "b_est = random.normal(rng_key, (2,)) * 0.01\n",
        "\n",
        "# Define a learning rate parameter\n",
        "lr = 0.01\n",
        "\n",
        "# Define the gradient descent step\n",
        "def step(params, batch):\n",
        "    grads = grad_loss(params, batch)\n",
        "    params = tree_multimap(lambda x, g: x - lr*g, params, grads)\n",
        "    return params\n",
        "\n",
        "# Initial parameters and training data batch\n",
        "params = A_inv_est, b_est\n",
        "batch = x_train\n",
        "\n",
        "for i in range(400):\n",
        "    params = step(params, batch)\n",
        "    \n",
        "    # Show progress\n",
        "    if i % 10 == 0:\n",
        "        clear_output(wait=True)\n",
        "        A_inv_est, b_est = params\n",
        "\n",
        "        plt.figure(figsize=(4, 4))\n",
        "        plt.title(\"iteration = {}, loss = {}\".format(i, loss(params, batch)))\n",
        "        \n",
        "        plt.hist2d(batch[:, 0], batch[:, 1], bins=50, range=[(-5,5), (-5,5)], density=True)\n",
        "        plt.xlim(-5, 5)\n",
        "        plt.ylim(-5, 5)\n",
        "\n",
        "        x = np.arange(-5.0, 5.0, 0.05)\n",
        "        y = np.arange(-5.0, 5.0, 0.05)\n",
        "        X, Y = np.meshgrid(x, y)\n",
        "        shape = X.shape\n",
        "        grid = np.hstack([X.reshape(-1, 1), Y.reshape(-1, 1)])\n",
        "        Z = np.exp(multivariate_normal.logpdf(g_fwd_vec(grid, A_inv_est, b_est), \n",
        "                                              mean=np.zeros(2), \n",
        "                                              cov=np.eye(2)) + np.log(np.abs(det_vec(J_vec(grid, A_inv_est, b_est)))))\n",
        "        Z = Z.reshape(shape)\n",
        "        CS = plt.contour(X, Y, Z, levels=10, lw=2)\n",
        "\n",
        "        plt.show()"
      ],
      "metadata": {
        "colab": {
          "base_uri": "https://localhost:8080/",
          "height": 301
        },
        "id": "lFL3VsSTphi6",
        "outputId": "c7efa810-f4df-4bdd-e9b8-39b2d7b5cc5f"
      },
      "execution_count": 30,
      "outputs": [
        {
          "output_type": "display_data",
          "data": {
            "image/png": "[encoded data removed]",
            "text/plain": [
              "<Figure size 288x288 with 1 Axes>"
            ]
          },
          "metadata": {
            "needs_background": "light"
          }
        }
      ]
    },
    {
      "cell_type": "markdown",
      "source": [
        "Of course, in this case, fitting the parameters of an affine transformation of a Normal distribution by expressing the data likelihood through the change of variables theorem is clearly an overkill. \n",
        "\n",
        "However, the same recipe holds for any invertible transformation $\\mathbf{z} = g(\\mathbf{x})$. In particular, parameterizing $g$ with an invertible neural network will result in a [Normalizing Flow](https://arxiv.org/abs/1912.02762)."
      ],
      "metadata": {
        "id": "GZUF_XcPquiN"
      }
    }
  ]
}